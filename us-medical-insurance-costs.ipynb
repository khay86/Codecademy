{
 "cells": [
  {
   "cell_type": "markdown",
   "metadata": {},
   "source": [
    "# U.S. Medical Insurance Costs"
   ]
  },
  {
   "cell_type": "code",
   "execution_count": 252,
   "metadata": {},
   "outputs": [],
   "source": [
    "import csv"
   ]
  },
  {
   "cell_type": "markdown",
   "metadata": {},
   "source": [
    "Create lists for each csv column"
   ]
  },
  {
   "cell_type": "code",
   "execution_count": 253,
   "metadata": {},
   "outputs": [],
   "source": [
    "age = []\n",
    "sex = []\n",
    "bmi = []\n",
    "num_children = []\n",
    "smoker = []\n",
    "region = []\n",
    "ins_cost = []"
   ]
  },
  {
   "cell_type": "markdown",
   "metadata": {},
   "source": [
    "Load csv data into created lists"
   ]
  },
  {
   "cell_type": "code",
   "execution_count": 254,
   "metadata": {},
   "outputs": [],
   "source": [
    "def load_data(lst, csv_file, column_title):\n",
    "    with open(csv_file) as csv_data:\n",
    "        csv_dict = csv.DictReader(csv_data)\n",
    "        for row in csv_dict:\n",
    "            lst.append(row[column_title])"
   ]
  },
  {
   "cell_type": "code",
   "execution_count": 255,
   "metadata": {},
   "outputs": [],
   "source": [
    "load_data(age, \"insurance.csv\", \"age\")\n",
    "load_data(sex, \"insurance.csv\", \"sex\")\n",
    "load_data(bmi, \"insurance.csv\", \"bmi\")\n",
    "load_data(num_children, \"insurance.csv\", \"children\")\n",
    "load_data(smoker, \"insurance.csv\", \"smoker\")\n",
    "load_data(region, \"insurance.csv\", \"region\")\n",
    "load_data(ins_cost, \"insurance.csv\", \"charges\")"
   ]
  },
  {
   "cell_type": "markdown",
   "metadata": {},
   "source": [
    "Find average age of patients"
   ]
  },
  {
   "cell_type": "code",
   "execution_count": 256,
   "metadata": {},
   "outputs": [],
   "source": [
    "def avg_age(age):\n",
    "    total_age = 0\n",
    "    for ages in age:\n",
    "        total_age += int(ages)\n",
    "    return \"Patient Average Age: \" + str(round((total_age / len(age)), 2)) + \" years old\""
   ]
  },
  {
   "cell_type": "code",
   "execution_count": 257,
   "metadata": {},
   "outputs": [
    {
     "name": "stdout",
     "output_type": "stream",
     "text": [
      "Patient Average Age: 39.21 years old\n"
     ]
    }
   ],
   "source": [
    "print(avg_age(age))"
   ]
  },
  {
   "cell_type": "markdown",
   "metadata": {},
   "source": [
    "Find number of Male vs. Female patients"
   ]
  },
  {
   "cell_type": "code",
   "execution_count": 258,
   "metadata": {},
   "outputs": [],
   "source": [
    "def count_by_sex(sex):\n",
    "    males = 0\n",
    "    females = 0\n",
    "    for gender in sex:\n",
    "        if gender == \"male\":\n",
    "            males += 1\n",
    "        else:\n",
    "            females += 1\n",
    "    print(\"Male Patients: \" + str(males))\n",
    "    print(\"Female Patients: \" + str(females))\n",
    "    return males, females"
   ]
  },
  {
   "cell_type": "code",
   "execution_count": 259,
   "metadata": {},
   "outputs": [
    {
     "name": "stdout",
     "output_type": "stream",
     "text": [
      "Male Patients: 676\n",
      "Female Patients: 662\n",
      "(676, 662)\n"
     ]
    }
   ],
   "source": [
    "print(count_by_sex(sex))"
   ]
  },
  {
   "cell_type": "markdown",
   "metadata": {},
   "source": [
    "Find number of patients by region"
   ]
  },
  {
   "cell_type": "code",
   "execution_count": 260,
   "metadata": {},
   "outputs": [],
   "source": [
    "def count_by_area(region):\n",
    "    NE = 0\n",
    "    NW = 0\n",
    "    SE = 0\n",
    "    SW = 0\n",
    "    for area in region:\n",
    "        if area == \"northeast\":\n",
    "            NE += 1\n",
    "        elif area == \"northwest\":\n",
    "            NW += 1\n",
    "        elif area == \"southeast\":\n",
    "            SE += 1\n",
    "        elif area == \"southwest\":\n",
    "            SW += 1\n",
    "    print(\"Patients from the Northeast: \" + str(NE))\n",
    "    print(\"Patients from the Northwest: \" + str(NW))\n",
    "    print(\"Patients from the Southeast: \" + str(SE))\n",
    "    print(\"Patients from the Southwest: \" + str(SW))\n",
    "    return NE, NW, SE, SW\n",
    "    "
   ]
  },
  {
   "cell_type": "code",
   "execution_count": 261,
   "metadata": {},
   "outputs": [
    {
     "name": "stdout",
     "output_type": "stream",
     "text": [
      "Patients from the Northeast: 324\n",
      "Patients from the Northwest: 325\n",
      "Patients from the Southeast: 364\n",
      "Patients from the Southwest: 325\n",
      "(324, 325, 364, 325)\n"
     ]
    }
   ],
   "source": [
    "print(count_by_area(region))"
   ]
  },
  {
   "cell_type": "markdown",
   "metadata": {},
   "source": [
    "Find average insurance cost"
   ]
  },
  {
   "cell_type": "code",
   "execution_count": 262,
   "metadata": {},
   "outputs": [],
   "source": [
    "def avg_cost(ins_cost):\n",
    "    total_cost = 0\n",
    "    for charge in ins_cost:\n",
    "        total_cost += float(charge)\n",
    "    return \"Average Insurance Cost: $\" + str(round(total_cost / len(ins_cost), 2)) "
   ]
  },
  {
   "cell_type": "code",
   "execution_count": 263,
   "metadata": {},
   "outputs": [
    {
     "name": "stdout",
     "output_type": "stream",
     "text": [
      "Average Insurance Cost: $13270.42\n"
     ]
    }
   ],
   "source": [
    "print(avg_cost(ins_cost))"
   ]
  },
  {
   "cell_type": "markdown",
   "metadata": {},
   "source": [
    "Find number of patients who smoke vs. do not smoke"
   ]
  },
  {
   "cell_type": "code",
   "execution_count": 264,
   "metadata": {},
   "outputs": [],
   "source": [
    "def smoker_count(smoker):\n",
    "    yes_smoke = 0\n",
    "    no_smoke = 0\n",
    "    for smokes in smoker:\n",
    "        if smokes == \"yes\":\n",
    "            yes_smoke += 1\n",
    "        elif smokes == \"no\":\n",
    "            no_smoke += 1\n",
    "    print(\"Number of patients who smoke: \" + str(yes_smoke))\n",
    "    print(\"Number of patients who do not smoke: \" + str(no_smoke))\n",
    "    return  yes_smoke, no_smoke"
   ]
  },
  {
   "cell_type": "code",
   "execution_count": 265,
   "metadata": {},
   "outputs": [
    {
     "name": "stdout",
     "output_type": "stream",
     "text": [
      "Number of patients who smoke: 274\n",
      "Number of patients who do not smoke: 1064\n",
      "(274, 1064)\n"
     ]
    }
   ],
   "source": [
    "print(smoker_count(smoker))"
   ]
  },
  {
   "cell_type": "markdown",
   "metadata": {},
   "source": [
    "Find average insurance cost for a smoker vs. a non-smoker"
   ]
  },
  {
   "cell_type": "code",
   "execution_count": 266,
   "metadata": {},
   "outputs": [],
   "source": [
    "cost_by_smoker = list(zip(smoker, ins_cost))\n",
    "yes_smoke = 274\n",
    "no_smoke = 1064"
   ]
  },
  {
   "cell_type": "code",
   "execution_count": 267,
   "metadata": {},
   "outputs": [],
   "source": [
    "def cost_by_smoker_status(cost_by_smoker):\n",
    "    total_smoker_cost = 0\n",
    "    total_non_smoker_cost = 0\n",
    "    for smokes, charge in cost_by_smoker:\n",
    "        if smokes == \"yes\":\n",
    "            total_smoker_cost += float(charge)\n",
    "        elif smokes == \"no\":\n",
    "            total_non_smoker_cost += float(charge)\n",
    "    print(\"Average insurance cost for a smoker: $\" + str(round((total_smoker_cost / yes_smoke), 2)))\n",
    "    print(\"Average insurance cost for a non-smoker: $\" + str(round((total_non_smoker_cost / no_smoke), 2)))\n",
    "    return \"Total smoker cost: $\" + str(round(total_smoker_cost, 2)) , \"Total non-smoker cost: $\" + str(round(total_non_smoker_cost, 2))"
   ]
  },
  {
   "cell_type": "code",
   "execution_count": 268,
   "metadata": {},
   "outputs": [
    {
     "name": "stdout",
     "output_type": "stream",
     "text": [
      "Average insurance cost for a smoker: $32050.23\n",
      "Average insurance cost for a non-smoker: $8434.27\n",
      "('Total smoker cost: $8781763.52', 'Total non-smoker cost: $8974061.47')\n"
     ]
    }
   ],
   "source": [
    "print(cost_by_smoker_status(cost_by_smoker))"
   ]
  },
  {
   "cell_type": "markdown",
   "metadata": {},
   "source": [
    "Find average insurance cost by region"
   ]
  },
  {
   "cell_type": "code",
   "execution_count": 269,
   "metadata": {},
   "outputs": [],
   "source": [
    "cost_by_area = list(zip(region, ins_cost))\n",
    "NE_patients = 324\n",
    "NW_patients = 325\n",
    "SE_patients = 364\n",
    "SW_patients = 325"
   ]
  },
  {
   "cell_type": "code",
   "execution_count": 270,
   "metadata": {},
   "outputs": [],
   "source": [
    "def avg_cost_by_location(cost_by_area):\n",
    "    total_NE_cost = 0\n",
    "    total_NW_cost = 0\n",
    "    total_SE_cost = 0\n",
    "    total_SW_cost = 0\n",
    "    for area, charge in cost_by_area:\n",
    "        if area == \"northeast\":\n",
    "            total_NE_cost += float(charge)\n",
    "        elif area == \"northwest\":\n",
    "            total_NW_cost += float(charge)\n",
    "        elif area == \"southeast\":\n",
    "            total_SE_cost += float(charge)\n",
    "        elif area == \"southwest\":\n",
    "            total_SW_cost += float(charge)\n",
    "    print(\"Average insurance cost for Northeast patients: $\" + str(round((total_NE_cost / NE_patients), 2)))\n",
    "    print(\"Average insurance cost for Northwest patients: $\" + str(round((total_NW_cost / NW_patients), 2)))\n",
    "    print(\"Average insurance cost for Southeast patients: $\" + str(round((total_SE_cost / SE_patients), 2)))\n",
    "    print(\"Average insurance cost for Southwest patients: $\" + str(round((total_SW_cost / SW_patients), 2)))\n",
    "    return \"Total Northeast cost: $\" + str(round(total_NE_cost, 2)) , \"Total Northwest cost: $\" + str(round(total_NW_cost, 2)), \"Total Southeast cost: $\" + str(round(total_SE_cost, 2)), \"Total Southwest cost: $\" + str(round(total_SW_cost, 2))"
   ]
  },
  {
   "cell_type": "code",
   "execution_count": 271,
   "metadata": {},
   "outputs": [
    {
     "name": "stdout",
     "output_type": "stream",
     "text": [
      "Average insurance cost for Northeast patients: $13406.38\n",
      "Average insurance cost for Northwest patients: $12417.58\n",
      "Average insurance cost for Southeast patients: $14735.41\n",
      "Average insurance cost for Southwest patients: $12346.94\n",
      "('Total Northeast cost: $4343668.58', 'Total Northwest cost: $4035712.0', 'Total Southeast cost: $5363689.76', 'Total Southwest cost: $4012754.65')\n"
     ]
    }
   ],
   "source": [
    "print(avg_cost_by_location(cost_by_area))"
   ]
  },
  {
   "cell_type": "markdown",
   "metadata": {},
   "source": [
    "Find average age for a patient with one or more children"
   ]
  },
  {
   "cell_type": "code",
   "execution_count": 272,
   "metadata": {},
   "outputs": [],
   "source": [
    "age_and_children = list(zip(age, num_children))"
   ]
  },
  {
   "cell_type": "code",
   "execution_count": 273,
   "metadata": {},
   "outputs": [],
   "source": [
    "def avg_patient_age_with_one_or_more_kids(age_and_children):\n",
    "    patients_with_one_plus_kids = 0\n",
    "    total_age = 0\n",
    "    for ages, kids in age_and_children:\n",
    "        if int(kids) >= 1:\n",
    "            patients_with_one_plus_kids += 1\n",
    "            total_age += int(ages)\n",
    "    return \"Average age for a patient with one child or more: \" + str(round((total_age / patients_with_one_plus_kids), 2)) + \" years old\"\n",
    "            "
   ]
  },
  {
   "cell_type": "code",
   "execution_count": 274,
   "metadata": {},
   "outputs": [
    {
     "name": "stdout",
     "output_type": "stream",
     "text": [
      "Average age for a patient with one child or more: 39.78 years old\n"
     ]
    }
   ],
   "source": [
    "print(avg_patient_age_with_one_or_more_kids(age_and_children))"
   ]
  }
 ],
 "metadata": {
  "kernelspec": {
   "display_name": "Python 3 (ipykernel)",
   "language": "python",
   "name": "python3"
  },
  "language_info": {
   "codemirror_mode": {
    "name": "ipython",
    "version": 3
   },
   "file_extension": ".py",
   "mimetype": "text/x-python",
   "name": "python",
   "nbconvert_exporter": "python",
   "pygments_lexer": "ipython3",
   "version": "3.9.7"
  }
 },
 "nbformat": 4,
 "nbformat_minor": 4
}
